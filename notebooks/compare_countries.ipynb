{
  "cells": [
    {
      "cell_type": "markdown",
      "id": "526f82e1",
      "metadata": {},
      "source": [
        "# Cross-Country Solar Potential Comparison\n",
        "\n",
        "This notebook compares solar potential metrics (GHI, DNI, DHI) across Benin, Sierra Leone, and Togo."
      ]
    },
    {
      "cell_type": "code",
      "execution_count": null,
      "id": "348f9fd9",
      "metadata": {},
      "outputs": [],
      "source": [
        "import pandas as pd\n",
        "import numpy as np\n",
        "import matplotlib.pyplot as plt\n",
        "import seaborn as sns\n",
        "from scipy import stats\n",
        "\n",
        "# Set style for better visualizations\n",
        "plt.style.use('seaborn')\n",
        "sns.set_palette('husl')\n",
        "\n",
        "# Read the cleaned datasets\n",
        "benin_df = pd.read_csv('../data/benin_clean.csv')\n",
        "sierraleone_df = pd.read_csv('../data/sierraleone_clean.csv')\n",
        "togo_df = pd.read_csv('../data/togo_clean.csv')\n",
        "\n",
        "# Add country column to each dataframe\n",
        "benin_df['Country'] = 'Benin'\n",
        "sierraleone_df['Country'] = 'Sierra Leone'\n",
        "togo_df['Country'] = 'Togo'\n",
        "\n",
        "# Combine all dataframes\n",
        "combined_df = pd.concat([benin_df, sierraleone_df, togo_df], ignore_index=True)"
      ]
    },
    {
      "cell_type": "markdown",
      "id": "223295e2",
      "metadata": {},
      "source": [
        "## 1. Boxplots of Solar Metrics"
      ]
    },
    {
      "cell_type": "code",
      "execution_count": null,
      "id": "28017fef",
      "metadata": {},
      "outputs": [],
      "source": [
        "# Create boxplots for each metric\n",
        "metrics = ['GHI', 'DNI', 'DHI']\n",
        "fig, axes = plt.subplots(1, 3, figsize=(18, 6))\n",
        "\n",
        "for idx, metric in enumerate(metrics):\n",
        "    sns.boxplot(data=combined_df, x='Country', y=metric, ax=axes[idx])\n",
        "    axes[idx].set_title(f'{metric} Distribution by Country')\n",
        "    axes[idx].set_ylabel(f'{metric} (W/m²)')\n",
        "    axes[idx].tick_params(axis='x', rotation=45)\n",
        "\n",
        "plt.tight_layout()\n",
        "plt.show()"
      ]
    },
    {
      "cell_type": "markdown",
      "id": "5bd601bb",
      "metadata": {},
      "source": [
        "## 2. Summary Statistics"
      ]
    },
    {
      "cell_type": "code",
      "execution_count": null,
      "id": "1ed68937",
      "metadata": {},
      "outputs": [],
      "source": [
        "# Calculate summary statistics for each metric by country\n",
        "summary_stats = combined_df.groupby('Country')[metrics].agg(['mean', 'median', 'std']).round(2)\n",
        "summary_stats"
      ]
    },
    {
      "cell_type": "markdown",
      "id": "cd67429c",
      "metadata": {},
      "source": [
        "## 3. Statistical Testing"
      ]
    },
    {
      "cell_type": "code",
      "execution_count": null,
      "id": "b4dc054a",
      "metadata": {},
      "outputs": [],
      "source": [
        "# Perform Kruskal-Wallis H-test for each metric\n",
        "for metric in metrics:\n",
        "    benin_data = benin_df[metric]\n",
        "    sierraleone_data = sierraleone_df[metric]\n",
        "    togo_data = togo_df[metric]\n",
        "    \n",
        "    h_stat, p_value = stats.kruskal(benin_data, sierraleone_data, togo_data)\n",
        "    print(f\"{metric} Kruskal-Wallis H-test:\")\n",
        "    print(f\"H-statistic: {h_stat:.2f}\")\n",
        "    print(f\"p-value: {p_value:.2e}\")\n",
        "    print()"
      ]
    },
    {
      "cell_type": "markdown",
      "id": "cd1806b7",
      "metadata": {},
      "source": [
        "## 4. Key Observations\n",
        "\n",
        "1. **Benin shows the highest solar potential** with the highest mean GHI (236.23 W/m²) and DNI (166.90 W/m²) values among the three countries. This suggests that Benin has the most favorable conditions for both direct and global solar radiation.\n",
        "\n",
        "2. **Sierra Leone exhibits the lowest solar potential** with significantly lower mean GHI (185.00 W/m²) and DNI (104.13 W/m²) values compared to the other countries. However, its DHI values (108.10 W/m²) are comparable to Benin and Togo, indicating that while direct sunlight is lower, diffuse radiation remains consistent.\n",
        "\n",
        "3. **Togo shows moderate but consistent solar potential** with mean GHI (223.86 W/m²) and DNI (147.98 W/m²) values falling between Benin and Sierra Leone. The country shows the highest DHI values (112.78 W/m²) and the lowest standard deviation in daily averages, suggesting more stable solar conditions throughout the year."
      ]
    },
    {
      "cell_type": "markdown",
      "id": "0870937d",
      "metadata": {},
      "source": [
        "## 5. Bonus: Country Ranking by Average GHI"
      ]
    },
    {
      "cell_type": "code",
      "execution_count": null,
      "id": "687a44a3",
      "metadata": {},
      "outputs": [],
      "source": [
        "# Calculate average GHI by country\n",
        "avg_ghi = combined_df.groupby('Country')['GHI'].mean().sort_values(ascending=False)\n",
        "\n",
        "plt.figure(figsize=(10, 6))\n",
        "sns.barplot(x=avg_ghi.index, y=avg_ghi.values)\n",
        "plt.title('Average GHI by Country')\n",
        "plt.ylabel('Average GHI (W/m²)')\n",
        "plt.xticks(rotation=45)\n",
        "plt.tight_layout()\n",
        "plt.show() "
      ]
    }
  ],
  "metadata": {
    "jupytext": {
      "cell_metadata_filter": "-all",
      "main_language": "python",
      "notebook_metadata_filter": "-all"
    },
    "kernelspec": {
      "display_name": "venv",
      "language": "python",
      "name": "python3"
    },
    "language_info": {
      "name": "python",
      "version": "3.12.3"
    }
  },
  "nbformat": 4,
  "nbformat_minor": 5
}
